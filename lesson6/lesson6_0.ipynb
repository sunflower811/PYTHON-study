{
 "cells": [
  {
   "cell_type": "code",
   "execution_count": 8,
   "metadata": {},
   "outputs": [
    {
     "name": "stdout",
     "output_type": "stream",
     "text": [
      "103的因數有:[1, 103]\n"
     ]
    }
   ],
   "source": [
    "try:\n",
    "    a=int(input(\"Please give me a number(int):\"))\n",
    "    b=[]\n",
    "    for i in range(1,a+1):\n",
    "        if a%i==0:b.append(i)\n",
    "    print(f'{a}的因數有:{b}')\n",
    "except Exception:\n",
    "    print(\"error\")"
   ]
  },
  {
   "cell_type": "code",
   "execution_count": 1,
   "metadata": {},
   "outputs": [
    {
     "name": "stdout",
     "output_type": "stream",
     "text": [
      "Congratulation, the money is enough! 5months deposit=42245'\n"
     ]
    }
   ],
   "source": [
    "deposit=0\n",
    "month=0\n",
    "while True: #無限迴圈 \n",
    "    month+=1\n",
    "    money=int(input(f\"please give me {month}months deposit\"))\n",
    "    deposit+=money\n",
    "    if deposit>=30000:break\n",
    "print(f\"Congratulation, the money is enough! {month}months deposit={deposit}'\")"
   ]
  },
  {
   "cell_type": "code",
   "execution_count": 5,
   "metadata": {},
   "outputs": [
    {
     "name": "stdout",
     "output_type": "stream",
     "text": [
      "The game's over, BYE\n"
     ]
    }
   ],
   "source": [
    "while True:\n",
    "    a=input(\"please give me a english word (q=Esc)\")\n",
    "    if a.upper()=='q'.upper():break\n",
    "    print(a.capitalize())\n",
    "print(\"The game's over, BYE\")\n",
    "    "
   ]
  },
  {
   "cell_type": "code",
   "execution_count": 9,
   "metadata": {},
   "outputs": [
    {
     "name": "stdout",
     "output_type": "stream",
     "text": [
      "2\n",
      "81\n",
      "8\n",
      "BYE\n"
     ]
    }
   ],
   "source": [
    "while True:\n",
    "    a=input(\"please give me a number(int),you leave with'q'\")\n",
    "    if a.upper()=='Q':break\n",
    "    try:a=int(a)\n",
    "    except:\n",
    "        print(\"try again\")\n",
    "        continue\n",
    "    if a%2==0:print(a)\n",
    "    else:print(a**2)\n",
    "print('BYE')"
   ]
  },
  {
   "cell_type": "code",
   "execution_count": 2,
   "metadata": {},
   "outputs": [
    {
     "name": "stdout",
     "output_type": "stream",
     "text": [
      "Sunny's BMI=19.11111111111111\n",
      "Sunny's weight is tooo light\n"
     ]
    }
   ],
   "source": [
    "while True:\n",
    "    try:a,h,w=input(\"name:\"),input(\"height(m):\"),input(\"weight(kg):\")\n",
    "    except:\n",
    "        print(\"Fail! Plz try again\")\n",
    "        continue\n",
    "    B=eval(w)/(eval(h)**2)\n",
    "    if B<18.5:b='tooo light'\n",
    "    elif 24>B>=18.5:'normal'\n",
    "    else :'tooo heavy'\n",
    "    print(f\"{a}'s BMI={B}\\n{a}'s weight is {b}\")\n",
    "    d=input(\"Do you want to continue?(y=yes,n=no)\")\n",
    "    if d=='y':continue\n",
    "    if d=='n':break\n"
   ]
  },
  {
   "cell_type": "code",
   "execution_count": 4,
   "metadata": {},
   "outputs": [
    {
     "name": "stdout",
     "output_type": "stream",
     "text": [
      "2\n",
      "-----A GUESSING NUM GAME------\n",
      "smaller, you try 1 times\n",
      "smaller, you try 2 times\n",
      "Bingo!!!, you try 3 times\n",
      "BYE\n"
     ]
    }
   ],
   "source": [
    "#GUESS A NUMBER\n",
    "import random\n",
    "min=1\n",
    "max=100\n",
    "a=random.randint(min,max)\n",
    "c=0\n",
    "print(a)\n",
    "print(\"-----A GUESSING NUM GAME------\")\n",
    "while True:\n",
    "    c+=1\n",
    "    try:b=int(input(f\"Guess the number's range: {min}~{max}\"))\n",
    "    except Exception:\n",
    "        print(\"try again\")\n",
    "        continue\n",
    "    if b>=min and b<=max:\n",
    "        if b==a:\n",
    "            print(f\"Bingo!!!, you try {c} times\")\n",
    "            break\n",
    "        elif b>a:\n",
    "            print(f'smaller, you try {c} times')\n",
    "            max=b-1\n",
    "        elif b>a:\n",
    "            print(f'bigger, you try {c} times')\n",
    "            min=b+1\n",
    "    else:print(\"out of range\")\n",
    "print(\"BYE\")"
   ]
  },
  {
   "cell_type": "code",
   "execution_count": null,
   "metadata": {},
   "outputs": [],
   "source": []
  }
 ],
 "metadata": {
  "kernelspec": {
   "display_name": "Python 3",
   "language": "python",
   "name": "python3"
  },
  "language_info": {
   "codemirror_mode": {
    "name": "ipython",
    "version": 3
   },
   "file_extension": ".py",
   "mimetype": "text/x-python",
   "name": "python",
   "nbconvert_exporter": "python",
   "pygments_lexer": "ipython3",
   "version": "3.10.16"
  }
 },
 "nbformat": 4,
 "nbformat_minor": 2
}
