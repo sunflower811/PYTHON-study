{
 "cells": [
  {
   "cell_type": "code",
   "execution_count": 8,
   "metadata": {},
   "outputs": [
    {
     "name": "stdout",
     "output_type": "stream",
     "text": [
      "103的因數有:[1, 103]\n"
     ]
    }
   ],
   "source": [
    "try:\n",
    "    a=int(input(\"Please give me a number(int):\"))\n",
    "    b=[]\n",
    "    for i in range(1,a+1):\n",
    "        if a%i==0:b.append(i)\n",
    "    print(f'{a}的因數有:{b}')\n",
    "except Exception:\n",
    "    print(\"error\")"
   ]
  },
  {
   "cell_type": "code",
   "execution_count": 1,
   "metadata": {},
   "outputs": [
    {
     "name": "stdout",
     "output_type": "stream",
     "text": [
      "Congratulation, the money is enough! 5months deposit=42245'\n"
     ]
    }
   ],
   "source": [
    "deposit=0\n",
    "month=0\n",
    "while True: #無限迴圈 \n",
    "    month+=1\n",
    "    money=int(input(f\"please give me {month}months deposit\"))\n",
    "    deposit+=money\n",
    "    if deposit>=30000:break\n",
    "print(f\"Congratulation, the money is enough! {month}months deposit={deposit}'\")"
   ]
  },
  {
   "cell_type": "code",
   "execution_count": 5,
   "metadata": {},
   "outputs": [
    {
     "name": "stdout",
     "output_type": "stream",
     "text": [
      "The game's over, BYE\n"
     ]
    }
   ],
   "source": [
    "while True:\n",
    "    a=input(\"please give me a english word (q=Esc)\")\n",
    "    if a.upper()=='q'.upper():break\n",
    "    print(a.capitalize())\n",
    "print(\"The game's over, BYE\")\n",
    "    "
   ]
  }
 ],
 "metadata": {
  "kernelspec": {
   "display_name": "Python 3",
   "language": "python",
   "name": "python3"
  },
  "language_info": {
   "codemirror_mode": {
    "name": "ipython",
    "version": 3
   },
   "file_extension": ".py",
   "mimetype": "text/x-python",
   "name": "python",
   "nbconvert_exporter": "python",
   "pygments_lexer": "ipython3",
   "version": "3.10.16"
  }
 },
 "nbformat": 4,
 "nbformat_minor": 2
}
