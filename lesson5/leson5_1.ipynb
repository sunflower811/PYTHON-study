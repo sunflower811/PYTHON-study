{
 "cells": [
  {
   "cell_type": "code",
   "execution_count": 2,
   "metadata": {},
   "outputs": [
    {
     "name": "stdout",
     "output_type": "stream",
     "text": [
      "bonus=500\n"
     ]
    }
   ],
   "source": [
    "C=int(input(\"Please give me your Chinese score : \"))\n",
    "M=int(input(\"Please give me your Math score : \"))\n",
    "if C==100:\n",
    "    if M==100:\n",
    "        bonus=1000\n",
    "    else:bonus=500\n",
    "else:\n",
    "    if math==100:bonus=500\n",
    "    else:bonus=0\n",
    "print(f'bonus={bonus}')"
   ]
  },
  {
   "cell_type": "code",
   "execution_count": null,
   "metadata": {},
   "outputs": [],
   "source": [
    "age=17\n",
    "#not:True False code space 對調\n",
    "if age>=18:print(\"You can get a drivers lisense\")\n",
    "else:(\"You can't get a drivers lisense\")"
   ]
  }
 ],
 "metadata": {
  "kernelspec": {
   "display_name": "Python 3",
   "language": "python",
   "name": "python3"
  },
  "language_info": {
   "codemirror_mode": {
    "name": "ipython",
    "version": 3
   },
   "file_extension": ".py",
   "mimetype": "text/x-python",
   "name": "python",
   "nbconvert_exporter": "python",
   "pygments_lexer": "ipython3",
   "version": "3.10.16"
  }
 },
 "nbformat": 4,
 "nbformat_minor": 2
}
