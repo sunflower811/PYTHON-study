{
 "cells": [
  {
   "cell_type": "code",
   "execution_count": 1,
   "metadata": {},
   "outputs": [
    {
     "name": "stdout",
     "output_type": "stream",
     "text": [
      "you are tooo light, Your BMI is17.77777777777778\n"
     ]
    }
   ],
   "source": [
    "try:#eval(int and flaot)\n",
    "    h,w=eval(input(\"Please give me your height(m) : \")),eval(input(\"Please give me your weight(kg) : \"))\n",
    "    B=w/(h*h)\n",
    "    if B<18.5:print(f'you are tooo light, Your BMI is{B:.2f}')\n",
    "    elif 24>B>=18.5:print(f'you are normal, Your BMI is{B:.2f}')\n",
    "    else :print(f'you are tooo heavy, Your BMI is{B:.2f}')\n",
    "\n",
    "except:print(\"Format fail\")"
   ]
  }
 ],
 "metadata": {
  "kernelspec": {
   "display_name": "Python 3",
   "language": "python",
   "name": "python3"
  },
  "language_info": {
   "codemirror_mode": {
    "name": "ipython",
    "version": 3
   },
   "file_extension": ".py",
   "mimetype": "text/x-python",
   "name": "python",
   "nbconvert_exporter": "python",
   "pygments_lexer": "ipython3",
   "version": "3.10.16"
  }
 },
 "nbformat": 4,
 "nbformat_minor": 2
}
