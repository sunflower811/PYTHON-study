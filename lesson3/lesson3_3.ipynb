{
 "cells": [
  {
   "cell_type": "markdown",
   "metadata": {},
   "source": [
    "### 有input的數學運算"
   ]
  },
  {
   "cell_type": "code",
   "execution_count": 4,
   "metadata": {},
   "outputs": [
    {
     "name": "stdout",
     "output_type": "stream",
     "text": [
      "top:10.0\n",
      "bottom:20.0\n",
      "height:10.0\n",
      "Area:150.0\n"
     ]
    }
   ],
   "source": [
    "#Area 梯形\n",
    "a=float(input('Please input an upper base: '))\n",
    "b=float(input('Please input an bottom base: '))\n",
    "h=float(input('Please input an height: '))\n",
    "A=(a+b)*h/2\n",
    "print(f'top:{a}\\nbottom:{b}\\nheight:{h}\\nArea:{A}')"
   ]
  },
  {
   "cell_type": "code",
   "execution_count": 1,
   "metadata": {},
   "outputs": [
    {
     "name": "stdout",
     "output_type": "stream",
     "text": [
      "r=2.0 A=6.2832\n"
     ]
    }
   ],
   "source": [
    "# circle area\n",
    "r=float(input('Please input a radii'))\n",
    "A=3.1415962*r*r/2\n",
    "print(f'r={r} A={A:.4f}')"
   ]
  },
  {
   "cell_type": "code",
   "execution_count": 9,
   "metadata": {},
   "outputs": [
    {
     "name": "stdout",
     "output_type": "stream",
     "text": [
      "the opposite of a triangle = 10.0\n",
      "the hypotenuse of a triangle = 20.0\n",
      "the Degree = 30.0000\n"
     ]
    }
   ],
   "source": [
    "a=float(input(\"Please input a opposite of a triangle: \"))\n",
    "c=float(input(\"Please input a hypotenuse of a triangle: \"))\n",
    "import math\n",
    "D=math.degrees(math.asin(a/c))\n",
    "print(f'the opposite of a triangle = {a}\\nthe hypotenuse of a triangle = {c}\\nthe Degree = {D:.4f}')"
   ]
  }
 ],
 "metadata": {
  "kernelspec": {
   "display_name": "Python 3",
   "language": "python",
   "name": "python3"
  },
  "language_info": {
   "codemirror_mode": {
    "name": "ipython",
    "version": 3
   },
   "file_extension": ".py",
   "mimetype": "text/x-python",
   "name": "python",
   "nbconvert_exporter": "python",
   "pygments_lexer": "ipython3",
   "version": "3.10.15"
  }
 },
 "nbformat": 4,
 "nbformat_minor": 2
}
