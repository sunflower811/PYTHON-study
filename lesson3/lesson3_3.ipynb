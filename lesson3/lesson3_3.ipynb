{
 "cells": [
  {
   "cell_type": "markdown",
   "metadata": {},
   "source": [
    "### 有input的數學運算"
   ]
  },
  {
   "cell_type": "code",
   "execution_count": 4,
   "metadata": {},
   "outputs": [
    {
     "name": "stdout",
     "output_type": "stream",
     "text": [
      "top:10.0\n",
      "bottom:20.0\n",
      "height:10.0\n",
      "Area:150.0\n"
     ]
    }
   ],
   "source": [
    "#Area 梯形\n",
    "a=float(input('Please input an upper base: '))\n",
    "b=float(input('Please input an bottom base: '))\n",
    "h=float(input('Please input an height: '))\n",
    "A=(a+b)*h/2\n",
    "print(f'top:{a}\\nbottom:{b}\\nheight:{h}\\nArea:{A}')"
   ]
  }
 ],
 "metadata": {
  "kernelspec": {
   "display_name": "Python 3",
   "language": "python",
   "name": "python3"
  },
  "language_info": {
   "codemirror_mode": {
    "name": "ipython",
    "version": 3
   },
   "file_extension": ".py",
   "mimetype": "text/x-python",
   "name": "python",
   "nbconvert_exporter": "python",
   "pygments_lexer": "ipython3",
   "version": "3.10.15"
  }
 },
 "nbformat": 4,
 "nbformat_minor": 2
}
