{
 "cells": [
  {
   "cell_type": "code",
   "execution_count": null,
   "metadata": {},
   "outputs": [],
   "source": [
    "def BMI(w,h):\n",
    "    BMI=w/h**2\n",
    "    return BMI"
   ]
  },
  {
   "cell_type": "code",
   "execution_count": 2,
   "metadata": {},
   "outputs": [
    {
     "name": "stdout",
     "output_type": "stream",
     "text": [
      "Sunny's BMI=19.11111111111111\n",
      "Sunny's weight is normal\n"
     ]
    }
   ],
   "source": [
    "def range(a,B):\n",
    "    if B<18.5:R='tooo light'\n",
    "    elif 24>B>=18.5:R='normal'\n",
    "    else :R='tooo heavy'\n",
    "    return R\n",
    "\n",
    "while True:\n",
    "    try:a,h,w=input(\"name:\"),input(\"height(m):\"),input(\"weight(kg):\")\n",
    "    except:\n",
    "        print(\"Fail! Plz try again\")\n",
    "        continue\n",
    "    B=eval(w)/(eval(h)**2)\n",
    "    Rank=range(a,B)\n",
    "    print(f\"{a}'s BMI={B}\\n{a}'s weight is {Rank}\")\n",
    "    d=input(\"Do you want to continue?(y=yes,n=no)\")\n",
    "    if d=='y':continue\n",
    "    if d=='n':break"
   ]
  },
  {
   "cell_type": "code",
   "execution_count": null,
   "metadata": {},
   "outputs": [],
   "source": []
  }
 ],
 "metadata": {
  "kernelspec": {
   "display_name": "Python 3",
   "language": "python",
   "name": "python3"
  },
  "language_info": {
   "codemirror_mode": {
    "name": "ipython",
    "version": 3
   },
   "file_extension": ".py",
   "mimetype": "text/x-python",
   "name": "python",
   "nbconvert_exporter": "python",
   "pygments_lexer": "ipython3",
   "version": "3.10.16"
  }
 },
 "nbformat": 4,
 "nbformat_minor": 2
}
