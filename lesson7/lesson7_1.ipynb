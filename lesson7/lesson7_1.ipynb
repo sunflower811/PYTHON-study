{
 "cells": [
  {
   "cell_type": "code",
   "execution_count": 2,
   "metadata": {},
   "outputs": [
    {
     "name": "stdout",
     "output_type": "stream",
     "text": [
      "wine: gin\n",
      "meal: spaghetti\n",
      "dessert: cake\n"
     ]
    }
   ],
   "source": [
    "def menu(wine:str,meal:str,dessert:str):\n",
    "    print(f\"wine: {wine}\")\n",
    "    print(f\"meal: {meal}\")\n",
    "    print(f\"dessert: {dessert}\")\n",
    "\n",
    "menu('gin','spaghetti','cake')"
   ]
  }
 ],
 "metadata": {
  "kernelspec": {
   "display_name": "Python 3",
   "language": "python",
   "name": "python3"
  },
  "language_info": {
   "codemirror_mode": {
    "name": "ipython",
    "version": 3
   },
   "file_extension": ".py",
   "mimetype": "text/x-python",
   "name": "python",
   "nbconvert_exporter": "python",
   "pygments_lexer": "ipython3",
   "version": "3.10.16"
  }
 },
 "nbformat": 4,
 "nbformat_minor": 2
}
