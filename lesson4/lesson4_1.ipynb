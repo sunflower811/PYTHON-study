{
 "cells": [
  {
   "cell_type": "code",
   "execution_count": 3,
   "metadata": {},
   "outputs": [
    {
     "name": "stdout",
     "output_type": "stream",
     "text": [
      "Score=96\n"
     ]
    }
   ],
   "source": [
    "n=eval(input('Please input the score'))\n",
    "if n>300:\n",
    "    n=300\n",
    "a=input('Can the student add 5% of score?(Yes,No)')\n",
    "if a=='Yes':\n",
    "    n=n*1.05\n",
    "else:\n",
    "    n=n\n",
    "print(f'Score={n:.0f}')"
   ]
  }
 ],
 "metadata": {
  "kernelspec": {
   "display_name": "Python 3",
   "language": "python",
   "name": "python3"
  },
  "language_info": {
   "codemirror_mode": {
    "name": "ipython",
    "version": 3
   },
   "file_extension": ".py",
   "mimetype": "text/x-python",
   "name": "python",
   "nbconvert_exporter": "python",
   "pygments_lexer": "ipython3",
   "version": "3.10.15"
  }
 },
 "nbformat": 4,
 "nbformat_minor": 2
}
