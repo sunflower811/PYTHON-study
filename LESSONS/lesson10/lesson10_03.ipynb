{
 "cells": [
  {
   "cell_type": "code",
   "execution_count": 5,
   "metadata": {},
   "outputs": [],
   "source": [
    "import tools\n",
    "from tools import BMI\n",
    "from pprint import pprint\n",
    "import csv\n",
    "\n",
    "if __name__ == '__main__':\n",
    "    nums = int(input('請輸入人數:'))\n",
    "    names:list[str]=tools.name_G(nums)\n",
    "    students:list[BMI]=tools.G_state(names)\n",
    "    file_dict:list[dict] = []\n",
    "    for student in students:\n",
    "        student_dict = {\n",
    "        \"姓名\": student.name,\n",
    "        \"身高\": student.height,\n",
    "        \"體重\": student.weight,\n",
    "        \"BMI\": student.get_BMI(),\n",
    "        \"狀態\": student.get_status()\n",
    "        } \n",
    "        file_dict.append(student_dict)\n",
    "    \n",
    "    with open('bmi.csv',mode='w+',encoding='utf-8',newline=\"\") as file:\n",
    "        dict_writer = csv.DictWriter(file,['姓名',\"身高\",'體重','BMI','狀態'])\n",
    "        dict_writer.writeheader()\n",
    "        dict_writer.writerows(file_dict)"
   ]
  }
 ],
 "metadata": {
  "kernelspec": {
   "display_name": "Python 3",
   "language": "python",
   "name": "python3"
  },
  "language_info": {
   "codemirror_mode": {
    "name": "ipython",
    "version": 3
   },
   "file_extension": ".py",
   "mimetype": "text/x-python",
   "name": "python",
   "nbconvert_exporter": "python",
   "pygments_lexer": "ipython3",
   "version": "3.10.16"
  }
 },
 "nbformat": 4,
 "nbformat_minor": 2
}
