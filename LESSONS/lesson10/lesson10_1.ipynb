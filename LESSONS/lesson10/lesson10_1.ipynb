{
 "cells": [
  {
   "cell_type": "code",
   "execution_count": null,
   "metadata": {},
   "outputs": [],
   "source": [
    "import csv\n",
    "with open('個股日成交資訊.csv',encoding='utf-8',newline='') as file:\n",
    "    csv_reader=csv.reader(file)\n",
    "    #print(type(csv_reader))\n",
    "    next(csv_reader)\n",
    "    for row in csv_reader:\n",
    "        print(row)"
   ]
  },
  {
   "cell_type": "code",
   "execution_count": null,
   "metadata": {},
   "outputs": [],
   "source": [
    "#讀+過濾\n",
    "import csv\n",
    "with open('個股日成交資訊.csv',encoding='utf-8',newline='') as file:\n",
    "    csv_dictR=csv.DictReader(file,['證券名稱', '成交股數', '成交金額', '漲跌價差', '成交筆數'],restkey='不要')\n",
    "    next(csv_dictR)\n",
    "    csv_list:list[dict]=list(csv_dictR)\n",
    "\n",
    "for row in csv_list:\n",
    "    del row['不要']\n",
    "    print(row)"
   ]
  },
  {
   "cell_type": "code",
   "execution_count": null,
   "metadata": {},
   "outputs": [],
   "source": [
    "#存成csv\n",
    "csv_list"
   ]
  },
  {
   "cell_type": "code",
   "execution_count": 31,
   "metadata": {},
   "outputs": [],
   "source": [
    "import csv\n",
    "with open('nem.csv',mode='w',encoding='utf-8',newline='') as file:\n",
    "    csv_writter=csv.DictWriter(file,['證券名稱', '成交股數', '成交金額', '漲跌價差', '成交筆數'])\n",
    "    csv_writter.writeheader()\n",
    "    csv_writter.writerows(csv_list)"
   ]
  }
 ],
 "metadata": {
  "kernelspec": {
   "display_name": "Python 3",
   "language": "python",
   "name": "python3"
  },
  "language_info": {
   "codemirror_mode": {
    "name": "ipython",
    "version": 3
   },
   "file_extension": ".py",
   "mimetype": "text/x-python",
   "name": "python",
   "nbconvert_exporter": "python",
   "pygments_lexer": "ipython3",
   "version": "3.10.16"
  }
 },
 "nbformat": 4,
 "nbformat_minor": 2
}
