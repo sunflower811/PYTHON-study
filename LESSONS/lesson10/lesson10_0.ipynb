{
 "cells": [
  {
   "cell_type": "code",
   "execution_count": 5,
   "metadata": {},
   "outputs": [
    {
     "name": "stdout",
     "output_type": "stream",
     "text": [
      "Name:藍姿婷\n",
      "Height:156\n",
      "Weight:51\n",
      "BMI:20.96\n",
      "State:normal\n",
      "-----------------------------\n",
      "Name:楊易政\n",
      "Height:154\n",
      "Weight:66\n",
      "BMI:27.83\n",
      "State:tooo heavy\n",
      "-----------------------------\n",
      "Name:柯宜臻\n",
      "Height:166\n",
      "Weight:82\n",
      "BMI:29.76\n",
      "State:tooo heavy\n",
      "-----------------------------\n"
     ]
    }
   ],
   "source": [
    "import random\n",
    "def name_G(nums:int=2)->list[str]:\n",
    "    with open('names.txt',mode='r',encoding='utf-8') as file:\n",
    "        names_str=file.read()\n",
    "    names:list[str]=names_str.split(sep='\\n')\n",
    "    names=random.choices(names,k=nums)\n",
    "    return names\n",
    "    \n",
    "class BMI():\n",
    "    def __init__(self,name:str,height:int,weight:int):\n",
    "        self.name=name\n",
    "        self.weight=weight\n",
    "        self.height=height\n",
    "\n",
    "    def get_BMI(self)->float:\n",
    "        return round(self.weight/(self.height/100)**2,ndigits=2)\n",
    "    \n",
    "    def get_status(self)->str:\n",
    "        B=self.get_BMI()\n",
    "        if B<18.5:R='tooo light'\n",
    "        elif 24>B>=18.5:R='normal'\n",
    "        else :R='tooo heavy'\n",
    "        return R\n",
    "\n",
    "def G_state(names:list[str])->[BMI]:\n",
    "    students:list[BMI]=[]\n",
    "    for name in names:\n",
    "        H=random.randint(140,190)\n",
    "        W=random.randint(50,110)\n",
    "        student_status=BMI(name,H,W)\n",
    "        students.append(student_status)\n",
    "    return students\n",
    "\n",
    "if __name__=='__main__':\n",
    "    nums=int(input(\"Gine me a num(<10): \"))\n",
    "    names:list[str]=name_G(nums)\n",
    "    students:list[BMI]=G_state(names)\n",
    "    for student in students:\n",
    "        print(f'Name:{student.name}')\n",
    "        print(f'Height:{student.height}')\n",
    "        print(f'Weight:{student.weight}')\n",
    "        print(f'BMI:{student.get_BMI()}')\n",
    "        print(f'State:{student.get_status()}')\n",
    "        print(\"-----------------------------\")"
   ]
  }
 ],
 "metadata": {
  "kernelspec": {
   "display_name": "Python 3",
   "language": "python",
   "name": "python3"
  },
  "language_info": {
   "codemirror_mode": {
    "name": "ipython",
    "version": 3
   },
   "file_extension": ".py",
   "mimetype": "text/x-python",
   "name": "python",
   "nbconvert_exporter": "python",
   "pygments_lexer": "ipython3",
   "version": "3.10.16"
  }
 },
 "nbformat": 4,
 "nbformat_minor": 2
}
