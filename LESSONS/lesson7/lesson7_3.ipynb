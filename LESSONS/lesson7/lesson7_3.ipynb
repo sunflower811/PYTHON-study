{
 "cells": [
  {
   "cell_type": "code",
   "execution_count": 1,
   "metadata": {},
   "outputs": [],
   "source": [
    "# dictionary\n",
    "code:dict={\n",
    "    'tw':'taiwan',\n",
    "    'jp':'Japan',\n",
    "    'hk':'Hong kong'\n",
    " }\n"
   ]
  },
  {
   "cell_type": "code",
   "execution_count": 3,
   "metadata": {},
   "outputs": [
    {
     "data": {
      "text/plain": [
       "('taiwan', 'Japan', 'Hong kong')"
      ]
     },
     "execution_count": 3,
     "metadata": {},
     "output_type": "execute_result"
    }
   ],
   "source": [
    "code['tw'],code['jp'],code['hk']"
   ]
  },
  {
   "cell_type": "code",
   "execution_count": 2,
   "metadata": {},
   "outputs": [
    {
     "name": "stdout",
     "output_type": "stream",
     "text": [
      "tw\n",
      "taiwan\n",
      "==============\n",
      "jp\n",
      "Japan\n",
      "==============\n",
      "hk\n",
      "Hong kong\n",
      "==============\n"
     ]
    }
   ],
   "source": [
    "for key in code:\n",
    "    print(key)\n",
    "    print(code[key])\n",
    "    print(\"==============\")"
   ]
  }
 ],
 "metadata": {
  "kernelspec": {
   "display_name": "Python 3",
   "language": "python",
   "name": "python3"
  },
  "language_info": {
   "codemirror_mode": {
    "name": "ipython",
    "version": 3
   },
   "file_extension": ".py",
   "mimetype": "text/x-python",
   "name": "python",
   "nbconvert_exporter": "python",
   "pygments_lexer": "ipython3",
   "version": "3.10.16"
  }
 },
 "nbformat": 4,
 "nbformat_minor": 2
}
