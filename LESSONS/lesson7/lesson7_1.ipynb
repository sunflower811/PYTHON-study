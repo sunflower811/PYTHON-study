{
 "cells": [
  {
   "cell_type": "code",
   "execution_count": 2,
   "metadata": {},
   "outputs": [
    {
     "name": "stdout",
     "output_type": "stream",
     "text": [
      "wine: gin\n",
      "meal: spaghetti\n",
      "dessert: cake\n"
     ]
    }
   ],
   "source": [
    "def menu(wine:str,meal:str,dessert:str):\n",
    "    print(f\"wine: {wine}\")\n",
    "    print(f\"meal: {meal}\")\n",
    "    print(f\"dessert: {dessert}\")\n",
    "\n",
    "menu('gin','spaghetti','cake')"
   ]
  },
  {
   "cell_type": "code",
   "execution_count": 5,
   "metadata": {},
   "outputs": [
    {
     "name": "stdout",
     "output_type": "stream",
     "text": [
      "()\n",
      "('-----',)\n"
     ]
    }
   ],
   "source": [
    "# *args---unlimited引數值呼叫\n",
    "def print_args(*args):\n",
    "    print(args)\n",
    "print_args()\n",
    "print_args(\"-----\")\n"
   ]
  },
  {
   "cell_type": "code",
   "execution_count": 10,
   "metadata": {},
   "outputs": [
    {
     "name": "stdout",
     "output_type": "stream",
     "text": [
      "{}\n",
      "{'a': '99'}\n"
     ]
    }
   ],
   "source": [
    "# **kwargs---unlimited引數值名稱呼叫\n",
    "def kwargs(**kwargs):\n",
    "    print(kwargs)\n",
    "\n",
    "kwargs()\n",
    "kwargs(a='99')"
   ]
  },
  {
   "cell_type": "code",
   "execution_count": 11,
   "metadata": {},
   "outputs": [
    {
     "name": "stdout",
     "output_type": "stream",
     "text": [
      "()\n",
      "{}\n",
      "---------\n",
      "(1, 2, 3, 4, 5)\n",
      "{'Hi': '2'}\n"
     ]
    }
   ],
   "source": [
    "def all(*args,**kwargs):\n",
    "    print(args)\n",
    "    print(kwargs)\n",
    "all()\n",
    "print(\"---------\")\n",
    "all(1,2,3,4,5,Hi=\"2\")\n"
   ]
  },
  {
   "cell_type": "code",
   "execution_count": null,
   "metadata": {},
   "outputs": [],
   "source": []
  }
 ],
 "metadata": {
  "kernelspec": {
   "display_name": "Python 3",
   "language": "python",
   "name": "python3"
  },
  "language_info": {
   "codemirror_mode": {
    "name": "ipython",
    "version": 3
   },
   "file_extension": ".py",
   "mimetype": "text/x-python",
   "name": "python",
   "nbconvert_exporter": "python",
   "pygments_lexer": "ipython3",
   "version": "3.10.16"
  }
 },
 "nbformat": 4,
 "nbformat_minor": 2
}
