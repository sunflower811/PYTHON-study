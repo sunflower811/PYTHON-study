{
 "cells": [
  {
   "cell_type": "code",
   "execution_count": 3,
   "metadata": {},
   "outputs": [
    {
     "name": "stdout",
     "output_type": "stream",
     "text": [
      "format wrong\n"
     ]
    }
   ],
   "source": [
    "def is_Ph_num(text:str)->bool:\n",
    "    if len(text)!=12:\n",
    "        return False\n",
    "    elif not text[:4].isdecimal():\n",
    "        return False\n",
    "    elif text[4]!='-':\n",
    "        return False\n",
    "    elif not text[5:8].isdecimal():\n",
    "        return False\n",
    "    elif text[8]!='-':\n",
    "        return False\n",
    "    elif not text[9:].isdecimal():\n",
    "        return False\n",
    "    else:\n",
    "        return True\n",
    "\n",
    "Ph_num=input(\"Phone number:\")\n",
    "if is_Ph_num(Ph_num):\n",
    "    print(f'Your phone num is {Ph_num}')\n",
    "else:\n",
    "    print('format wrong')"
   ]
  },
  {
   "cell_type": "code",
   "execution_count": 2,
   "metadata": {},
   "outputs": [
    {
     "name": "stdout",
     "output_type": "stream",
     "text": [
      "format wrong\n"
     ]
    }
   ],
   "source": [
    "import re\n",
    "from re import Pattern,Match\n",
    "def is_Ph_num(text:str)->bool:\n",
    "    ph_num_regex:Pattern=re.compile(r'\\d\\d\\d\\d-\\d\\d\\d-\\d\\d\\d')\n",
    "    result:Match=re.match(ph_num_regex,text)\n",
    "    if result is None:\n",
    "        return False\n",
    "    else:\n",
    "        return True\n",
    "    \n",
    "\n",
    "Ph_num=input(\"Phone number:\")\n",
    "if is_Ph_num(Ph_num):\n",
    "    print(f'Your phone num is {Ph_num}')\n",
    "else:\n",
    "    print('format wrong')"
   ]
  },
  {
   "cell_type": "code",
   "execution_count": null,
   "metadata": {},
   "outputs": [],
   "source": [
    "import re\n",
    "from re import Pattern,Match\n",
    "def is_Ph_num(text:str)->bool:\n",
    "    ph_num_regex:Pattern=re.compile(r'^\\d{4}-\\d{3}-\\d{3}$')\n",
    "    result:Match=re.match(ph_num_regex,text)\n",
    "    if result is None:\n",
    "        return False\n",
    "    else:\n",
    "        return True\n",
    "    \n",
    "\n",
    "Ph_num=input(\"Phone number:\")\n",
    "if is_Ph_num(Ph_num):\n",
    "    print(f'Your phone num is {Ph_num}')\n",
    "else:\n",
    "    print('format wrong')"
   ]
  },
  {
   "cell_type": "code",
   "execution_count": 3,
   "metadata": {},
   "outputs": [
    {
     "name": "stdout",
     "output_type": "stream",
     "text": [
      "Your phone num is 0966_459_549\n"
     ]
    }
   ],
   "source": [
    "import re\n",
    "from re import Pattern,Match\n",
    "def is_Ph_num(text:str)->bool:\n",
    "    ph_num_regex:Pattern=re.compile(r'^\\d{4}(-|_)\\d{3}(-|_)\\d{3}$')\n",
    "    result:Match=re.match(ph_num_regex,text)\n",
    "    if result is None:\n",
    "        return False\n",
    "    else:\n",
    "        return True\n",
    "    \n",
    "\n",
    "Ph_num=input(\"Phone number:\")\n",
    "if is_Ph_num(Ph_num):\n",
    "    print(f'Your phone num is {Ph_num}')\n",
    "else:\n",
    "    print('format wrong')"
   ]
  }
 ],
 "metadata": {
  "kernelspec": {
   "display_name": "Python 3",
   "language": "python",
   "name": "python3"
  },
  "language_info": {
   "codemirror_mode": {
    "name": "ipython",
    "version": 3
   },
   "file_extension": ".py",
   "mimetype": "text/x-python",
   "name": "python",
   "nbconvert_exporter": "python",
   "pygments_lexer": "ipython3",
   "version": "3.10.16"
  }
 },
 "nbformat": 4,
 "nbformat_minor": 2
}
