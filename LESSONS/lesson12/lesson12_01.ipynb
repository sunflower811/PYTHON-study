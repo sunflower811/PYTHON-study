{
 "cells": [
  {
   "cell_type": "code",
   "execution_count": 1,
   "metadata": {},
   "outputs": [
    {
     "name": "stdout",
     "output_type": "stream",
     "text": [
      "0909090909\n"
     ]
    }
   ],
   "source": [
    "def is_Ph_num(text:str)->bool:\n",
    "    return True\n",
    "\n",
    "Ph_num=input(\"Phone number:\")\n",
    "if is_Ph_num(Ph_num):\n",
    "    print(f'Your num is {Ph_num}')\n",
    "else:\n",
    "    print('num wrong format')"
   ]
  }
 ],
 "metadata": {
  "kernelspec": {
   "display_name": "Python 3",
   "language": "python",
   "name": "python3"
  },
  "language_info": {
   "codemirror_mode": {
    "name": "ipython",
    "version": 3
   },
   "file_extension": ".py",
   "mimetype": "text/x-python",
   "name": "python",
   "nbconvert_exporter": "python",
   "pygments_lexer": "ipython3",
   "version": "3.10.16"
  }
 },
 "nbformat": 4,
 "nbformat_minor": 2
}
