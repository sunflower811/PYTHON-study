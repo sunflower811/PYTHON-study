{
 "cells": [
  {
   "cell_type": "code",
   "execution_count": 1,
   "metadata": {},
   "outputs": [
    {
     "name": "stdout",
     "output_type": "stream",
     "text": [
      "connect failHTTPSConnectionPool(host='moenv.gov.tw', port=443): Max retries exceeded with url: /api/v2/aqx_p_488?api_key=221974dd-667c-4243-b308-61b60bc29986&limit=1000&sort=datacreationdate%20desc&format=CSV (Caused by NameResolutionError(\"<urllib3.connection.HTTPSConnection object at 0x75ba44199db0>: Failed to resolve 'moenv.gov.tw' ([Errno -5] No address associated with hostname)\"))\n"
     ]
    }
   ],
   "source": [
    "import requests\n",
    "from requests import Response\n",
    "url='https://data.moenv.gov.tw/api/v2/aqx_p_488?api_key=221974dd-667c-4243-b308-61b60bc29986&limit=1000&sort=datacreationdate%20desc&format=CSV'\n",
    "try:\n",
    "    r:Response=requests.get(url)\n",
    "    if r.status_code==200:\n",
    "        print('Download Successfully')\n",
    "    else:\n",
    "        print('Fail')\n",
    "except Exception as e:\n",
    "    print(f\"connect fail{e}\")"
   ]
  },
  {
   "cell_type": "code",
   "execution_count": 2,
   "metadata": {},
   "outputs": [],
   "source": [
    "import requests\n",
    "from requests import Response\n",
    "url='https://data.moenv.gov.tw/api/v2/aqx_p_488?api_key=221974dd-667c-4243-b308-61b60bc29986&limit=1000&sort=datacreationdate%20desc&format=CSV'\n",
    "try:\n",
    "    r:Response=requests.get(url)\n",
    "    r.raise_for_status()\n",
    "\n",
    "except Exception as e:\n",
    "    print(f\"connect fail{e}\")\n",
    "\n",
    "else:\n",
    "    print(\"Successfully connect and download\")"
   ]
  }
 ],
 "metadata": {
  "kernelspec": {
   "display_name": "Python 3",
   "language": "python",
   "name": "python3"
  },
  "language_info": {
   "codemirror_mode": {
    "name": "ipython",
    "version": 3
   },
   "file_extension": ".py",
   "mimetype": "text/x-python",
   "name": "python",
   "nbconvert_exporter": "python",
   "pygments_lexer": "ipython3",
   "version": "3.10.16"
  }
 },
 "nbformat": 4,
 "nbformat_minor": 2
}
