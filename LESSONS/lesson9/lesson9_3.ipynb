{
 "cells": [
  {
   "cell_type": "code",
   "execution_count": 7,
   "metadata": {},
   "outputs": [],
   "source": [
    "class Person(object):\n",
    "    def __init__(self,name:str,age:int):     #自訂初始化,參數\n",
    "        self.name=name                       #建立attribute\n",
    "        self.age=age\n",
    "    \n",
    "    def echo(self):\n",
    "        print(f'My name is {self.name}')\n",
    "        print(f'My age is {self.age}')\n",
    "\n",
    "class Student(Person):\n",
    "    def __init__(self,name:str,age:int,score:int):\n",
    "        super().__init__(name=name,age=age)\n",
    "        self.score=score\n",
    "    def echo(self):\n",
    "        super().echo()\n",
    "        print(f'My score is {self.score}')"
   ]
  },
  {
   "cell_type": "code",
   "execution_count": 8,
   "metadata": {},
   "outputs": [
    {
     "name": "stdout",
     "output_type": "stream",
     "text": [
      "My name is Sunny\n",
      "My age is 18\n",
      "My score is 100\n"
     ]
    }
   ],
   "source": [
    "s1:Student=Student(name='Sunny',age=18,score=100)\n",
    "s1.echo()"
   ]
  },
  {
   "cell_type": "code",
   "execution_count": 9,
   "metadata": {},
   "outputs": [
    {
     "name": "stdout",
     "output_type": "stream",
     "text": [
      "My name is QQ\n",
      "My age is 11\n",
      "My score is 50\n"
     ]
    }
   ],
   "source": [
    "s2:Student=Student(name='QQ',age=11,score=50)\n",
    "s2.echo()"
   ]
  },
  {
   "cell_type": "code",
   "execution_count": 12,
   "metadata": {},
   "outputs": [
    {
     "name": "stdout",
     "output_type": "stream",
     "text": [
      "My name is Sunny\n",
      "My age is 18\n",
      "My score is 100\n",
      "---------------------\n",
      "My name is QQ\n",
      "My age is 11\n",
      "My score is 50\n",
      "---------------------\n"
     ]
    }
   ],
   "source": [
    "students:list[Student]=[s1,s2]\n",
    "for student in students:\n",
    "    student.echo()\n",
    "    print(\"---------------------\")"
   ]
  }
 ],
 "metadata": {
  "kernelspec": {
   "display_name": "Python 3",
   "language": "python",
   "name": "python3"
  },
  "language_info": {
   "codemirror_mode": {
    "name": "ipython",
    "version": 3
   },
   "file_extension": ".py",
   "mimetype": "text/x-python",
   "name": "python",
   "nbconvert_exporter": "python",
   "pygments_lexer": "ipython3",
   "version": "3.10.16"
  }
 },
 "nbformat": 4,
 "nbformat_minor": 2
}
