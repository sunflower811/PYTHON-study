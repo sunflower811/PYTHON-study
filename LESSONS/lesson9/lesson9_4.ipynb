{
 "cells": [
  {
   "cell_type": "code",
   "execution_count": 2,
   "metadata": {},
   "outputs": [],
   "source": [
    "class BMI(object):\n",
    "    def __init__(self,name:str,height:int,weight:int):\n",
    "        self.name=name\n",
    "        self.weight=weight\n",
    "        self.height=height\n",
    "\n",
    "    def get_BMI(self)->float:\n",
    "        return round(self.weight/(self.height/100)**2,ndigits=2)\n",
    "    \n",
    "    def get_status(self)->str:\n",
    "        B=self.get_BMI()\n",
    "        if B<18.5:R='tooo light'\n",
    "        elif 24>B>=18.5:R='normal'\n",
    "        else :R='tooo heavy'\n",
    "        return R\n"
   ]
  },
  {
   "cell_type": "code",
   "execution_count": 3,
   "metadata": {},
   "outputs": [
    {
     "data": {
      "text/plain": [
       "(17.78, 'tooo light')"
      ]
     },
     "execution_count": 3,
     "metadata": {},
     "output_type": "execute_result"
    }
   ],
   "source": [
    "p1=BMI(name='Sunny',height=150,weight=40)\n",
    "p1.get_BMI(),p1.get_status()"
   ]
  },
  {
   "cell_type": "code",
   "execution_count": 4,
   "metadata": {},
   "outputs": [
    {
     "data": {
      "text/plain": [
       "(17.33, 'tooo light')"
      ]
     },
     "execution_count": 4,
     "metadata": {},
     "output_type": "execute_result"
    }
   ],
   "source": [
    "p2=BMI(name='Jessie',height=150,weight=39)\n",
    "p2.get_BMI(),p1.get_status()"
   ]
  }
 ],
 "metadata": {
  "kernelspec": {
   "display_name": "Python 3",
   "language": "python",
   "name": "python3"
  },
  "language_info": {
   "codemirror_mode": {
    "name": "ipython",
    "version": 3
   },
   "file_extension": ".py",
   "mimetype": "text/x-python",
   "name": "python",
   "nbconvert_exporter": "python",
   "pygments_lexer": "ipython3",
   "version": "3.10.16"
  }
 },
 "nbformat": 4,
 "nbformat_minor": 2
}
