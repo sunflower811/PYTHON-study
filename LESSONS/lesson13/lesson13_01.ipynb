{
 "cells": [
  {
   "cell_type": "code",
   "execution_count": 3,
   "metadata": {},
   "outputs": [
    {
     "name": "stdout",
     "output_type": "stream",
     "text": [
      "1 2 3 4 5 9 8 7 5 6 "
     ]
    }
   ],
   "source": [
    "#list\n",
    "a=[1,2,3,4,5]\n",
    "b=[9,8,7,6,5]\n",
    "c=a+b\n",
    "c\n",
    "for value in c:\n",
    "    print(value,end=' ')"
   ]
  }
 ],
 "metadata": {
  "kernelspec": {
   "display_name": "Python 3",
   "language": "python",
   "name": "python3"
  },
  "language_info": {
   "codemirror_mode": {
    "name": "ipython",
    "version": 3
   },
   "file_extension": ".py",
   "mimetype": "text/x-python",
   "name": "python",
   "nbconvert_exporter": "python",
   "pygments_lexer": "ipython3",
   "version": "3.10.16"
  }
 },
 "nbformat": 4,
 "nbformat_minor": 2
}
