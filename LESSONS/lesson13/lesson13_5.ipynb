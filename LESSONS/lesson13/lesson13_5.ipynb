{
 "cells": [
  {
   "cell_type": "code",
   "execution_count": 2,
   "metadata": {},
   "outputs": [
    {
     "data": {
      "text/plain": [
       "array([[1, 2, 3],\n",
       "       [4, 5, 6]])"
      ]
     },
     "execution_count": 2,
     "metadata": {},
     "output_type": "execute_result"
    }
   ],
   "source": [
    "import numpy as np\n",
    "np.array([[1,2,3],[4,5,6]])"
   ]
  },
  {
   "cell_type": "code",
   "execution_count": null,
   "metadata": {},
   "outputs": [],
   "source": [
    "np.random.randint(50,100,size=(50,5))\n"
   ]
  },
  {
   "cell_type": "code",
   "execution_count": 8,
   "metadata": {},
   "outputs": [
    {
     "data": {
      "text/plain": [
       "array([[[76, 70, 83, 80, 51],\n",
       "        [83, 81, 60, 94, 90],\n",
       "        [79, 56, 76, 96, 65],\n",
       "        [96, 67, 51, 76, 54],\n",
       "        [54, 68, 61, 53, 63],\n",
       "        [77, 51, 60, 94, 81],\n",
       "        [53, 72, 50, 63, 74],\n",
       "        [50, 88, 78, 59, 90],\n",
       "        [87, 79, 75, 88, 93],\n",
       "        [86, 91, 91, 79, 87]],\n",
       "\n",
       "       [[55, 70, 50, 55, 79],\n",
       "        [57, 87, 88, 94, 78],\n",
       "        [69, 74, 54, 53, 62],\n",
       "        [58, 63, 51, 66, 93],\n",
       "        [51, 68, 81, 68, 88],\n",
       "        [54, 63, 86, 63, 66],\n",
       "        [57, 75, 61, 66, 61],\n",
       "        [57, 70, 62, 72, 68],\n",
       "        [80, 50, 92, 95, 89],\n",
       "        [66, 77, 78, 99, 59]],\n",
       "\n",
       "       [[90, 68, 93, 93, 86],\n",
       "        [86, 54, 76, 62, 60],\n",
       "        [65, 87, 53, 54, 88],\n",
       "        [52, 55, 77, 80, 64],\n",
       "        [62, 75, 71, 89, 91],\n",
       "        [67, 63, 65, 86, 63],\n",
       "        [71, 99, 50, 61, 63],\n",
       "        [89, 64, 65, 85, 77],\n",
       "        [60, 59, 80, 78, 65],\n",
       "        [60, 88, 99, 52, 71]]])"
      ]
     },
     "execution_count": 8,
     "metadata": {},
     "output_type": "execute_result"
    }
   ],
   "source": [
    "np.random.randint(50,100,size=(3,10,5))"
   ]
  },
  {
   "cell_type": "code",
   "execution_count": 9,
   "metadata": {},
   "outputs": [
    {
     "data": {
      "text/plain": [
       "((3, 10, 5), 150, 3, dtype('int64'))"
      ]
     },
     "execution_count": 9,
     "metadata": {},
     "output_type": "execute_result"
    }
   ],
   "source": [
    "# property ---shape, size, dtype, ndim\n",
    "grade1=np.random.randint(50,100,size=(3,10,5))\n",
    "grade1.shape,grade1.size,grade1.ndim,grade1.dtype"
   ]
  }
 ],
 "metadata": {
  "kernelspec": {
   "display_name": "Python 3",
   "language": "python",
   "name": "python3"
  },
  "language_info": {
   "codemirror_mode": {
    "name": "ipython",
    "version": 3
   },
   "file_extension": ".py",
   "mimetype": "text/x-python",
   "name": "python",
   "nbconvert_exporter": "python",
   "pygments_lexer": "ipython3",
   "version": "3.10.16"
  }
 },
 "nbformat": 4,
 "nbformat_minor": 2
}
