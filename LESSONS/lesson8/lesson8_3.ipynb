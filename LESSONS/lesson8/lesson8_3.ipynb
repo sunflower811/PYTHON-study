{
 "cells": [
  {
   "cell_type": "code",
   "execution_count": 1,
   "metadata": {},
   "outputs": [
    {
     "name": "stdout",
     "output_type": "stream",
     "text": [
      "邱亭君\n",
      "張伊映\n",
      "錢佩豪\n",
      "楊建安\n",
      "林志成\n"
     ]
    }
   ],
   "source": [
    "import random\n",
    "def get_names(nums:int=2)->list[str]:\n",
    "    with open('names.txt',encoding='utf-8',mode='r') as file:\n",
    "        names_str=file.read()\n",
    "    names:list[str]=names_str.split(sep='\\n')\n",
    "    names=random.choices(names,k=nums)\n",
    "    return names\n",
    "nums=int(input(\"students num(max=10)\"))\n",
    "students_names:list[str]=get_names(nums=nums)\n",
    "for name in students_names:\n",
    "    print(name)"
   ]
  },
  {
   "cell_type": "code",
   "execution_count": 4,
   "metadata": {},
   "outputs": [],
   "source": [
    "def generate_students(names:list[str])->list[dict]:\n",
    "    pass\n"
   ]
  },
  {
   "cell_type": "code",
   "execution_count": 5,
   "metadata": {},
   "outputs": [],
   "source": [
    "generate_students(names=students_names)"
   ]
  }
 ],
 "metadata": {
  "kernelspec": {
   "display_name": "Python 3",
   "language": "python",
   "name": "python3"
  },
  "language_info": {
   "codemirror_mode": {
    "name": "ipython",
    "version": 3
   },
   "file_extension": ".py",
   "mimetype": "text/x-python",
   "name": "python",
   "nbconvert_exporter": "python",
   "pygments_lexer": "ipython3",
   "version": "3.10.16"
  }
 },
 "nbformat": 4,
 "nbformat_minor": 2
}
