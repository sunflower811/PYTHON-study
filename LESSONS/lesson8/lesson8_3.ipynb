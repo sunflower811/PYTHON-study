{
 "cells": [
  {
   "cell_type": "code",
   "execution_count": 3,
   "metadata": {},
   "outputs": [
    {
     "name": "stdout",
     "output_type": "stream",
     "text": [
      "鄭琇亞\n",
      "林建宏\n",
      "馮淑芬\n",
      "戚亨\n",
      "朱士弘\n"
     ]
    }
   ],
   "source": [
    "import random\n",
    "def get_names(nums:int=2)->list[str]:\n",
    "    with open('names.txt',encoding='utf-8',mode='r') as file:\n",
    "        names_str=file.read()\n",
    "    names:list[str]=names_str.split(sep='\\n')\n",
    "    names=random.choices(names,k=nums)\n",
    "    return names\n",
    "\n",
    "nums=int(input(\"students num(max=10)\"))\n",
    "students_names:list[str]=get_names(nums=nums)\n",
    "for name in students_names:\n",
    "    print(name)"
   ]
  },
  {
   "cell_type": "code",
   "execution_count": 22,
   "metadata": {},
   "outputs": [],
   "source": [
    "def generate_students(names:list[str])->list[dict]:\n",
    "    students:list[dict]=[]\n",
    "    for name in names:\n",
    "        #print(name)\n",
    "        chinese=random.randint(50,100)\n",
    "        English=random.randint(50,100)\n",
    "        Math=random.randint(50,100)\n",
    "        student={'name':name,'chinese':chinese,'english':English,'math':Math}\n",
    "        students.append(student)\n",
    "    return students"
   ]
  },
  {
   "cell_type": "code",
   "execution_count": 24,
   "metadata": {},
   "outputs": [
    {
     "data": {
      "text/plain": [
       "[{'name': '鄭琇亞', 'chinese': 55, 'english': 93, 'math': 56},\n",
       " {'name': '林建宏', 'chinese': 86, 'english': 96, 'math': 87},\n",
       " {'name': '馮淑芬', 'chinese': 64, 'english': 94, 'math': 81},\n",
       " {'name': '戚亨', 'chinese': 75, 'english': 80, 'math': 63},\n",
       " {'name': '朱士弘', 'chinese': 63, 'english': 93, 'math': 77}]"
      ]
     },
     "execution_count": 24,
     "metadata": {},
     "output_type": "execute_result"
    }
   ],
   "source": [
    "students=generate_students(names=students_names)\n",
    "students\n"
   ]
  }
 ],
 "metadata": {
  "kernelspec": {
   "display_name": "Python 3",
   "language": "python",
   "name": "python3"
  },
  "language_info": {
   "codemirror_mode": {
    "name": "ipython",
    "version": 3
   },
   "file_extension": ".py",
   "mimetype": "text/x-python",
   "name": "python",
   "nbconvert_exporter": "python",
   "pygments_lexer": "ipython3",
   "version": "3.10.16"
  }
 },
 "nbformat": 4,
 "nbformat_minor": 2
}
