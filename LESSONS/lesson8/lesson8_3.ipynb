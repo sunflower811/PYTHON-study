{
 "cells": [
  {
   "cell_type": "code",
   "execution_count": 3,
   "metadata": {},
   "outputs": [
    {
     "name": "stdout",
     "output_type": "stream",
     "text": [
      "鄭琇亞\n",
      "林建宏\n",
      "馮淑芬\n",
      "戚亨\n",
      "朱士弘\n"
     ]
    }
   ],
   "source": [
    "import random\n",
    "def get_names(nums:int=2)->list[str]:\n",
    "    with open('names.txt',encoding='utf-8',mode='r') as file:\n",
    "        names_str=file.read()\n",
    "    names:list[str]=names_str.split(sep='\\n')\n",
    "    names=random.choices(names,k=nums)\n",
    "    return names\n",
    "\n",
    "nums=int(input(\"students num(max=10)\"))\n",
    "students_names:list[str]=get_names(nums=nums)\n",
    "for name in students_names:\n",
    "    print(name)"
   ]
  },
  {
   "cell_type": "code",
   "execution_count": 18,
   "metadata": {},
   "outputs": [],
   "source": [
    "def generate_students(names:list[str])->list[dict]:\n",
    "    for name in names:\n",
    "        #print(name)\n",
    "        chinese=random.randint(50,100)\n",
    "        English=random.randint(50,100)\n",
    "        Math=random.randint(50,100)\n",
    "        print({'name':name,'chinese':chinese,'english':English,'math':Math})\n",
    "        print(\"-----------\")"
   ]
  },
  {
   "cell_type": "code",
   "execution_count": 17,
   "metadata": {},
   "outputs": [
    {
     "name": "stdout",
     "output_type": "stream",
     "text": [
      "鄭琇亞\n",
      "{'name': '鄭琇亞', 'chinese': 99, 'english': 53, 'math': 76}\n",
      "-----------\n",
      "林建宏\n",
      "{'name': '林建宏', 'chinese': 92, 'english': 83, 'math': 69}\n",
      "-----------\n",
      "馮淑芬\n",
      "{'name': '馮淑芬', 'chinese': 55, 'english': 83, 'math': 83}\n",
      "-----------\n",
      "戚亨\n",
      "{'name': '戚亨', 'chinese': 100, 'english': 90, 'math': 52}\n",
      "-----------\n",
      "朱士弘\n",
      "{'name': '朱士弘', 'chinese': 64, 'english': 78, 'math': 75}\n",
      "-----------\n"
     ]
    }
   ],
   "source": [
    "generate_students(names=students_names)"
   ]
  }
 ],
 "metadata": {
  "kernelspec": {
   "display_name": "Python 3",
   "language": "python",
   "name": "python3"
  },
  "language_info": {
   "codemirror_mode": {
    "name": "ipython",
    "version": 3
   },
   "file_extension": ".py",
   "mimetype": "text/x-python",
   "name": "python",
   "nbconvert_exporter": "python",
   "pygments_lexer": "ipython3",
   "version": "3.10.16"
  }
 },
 "nbformat": 4,
 "nbformat_minor": 2
}
