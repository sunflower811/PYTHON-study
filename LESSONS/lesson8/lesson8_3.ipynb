{
 "cells": [
  {
   "cell_type": "code",
   "execution_count": 3,
   "metadata": {},
   "outputs": [
    {
     "name": "stdout",
     "output_type": "stream",
     "text": [
      "鄭琇亞\n",
      "林建宏\n",
      "馮淑芬\n",
      "戚亨\n",
      "朱士弘\n"
     ]
    }
   ],
   "source": [
    "import random\n",
    "def get_names(nums:int=2)->list[str]:\n",
    "    with open('names.txt',encoding='utf-8',mode='r') as file:\n",
    "        names_str=file.read()\n",
    "    names:list[str]=names_str.split(sep='\\n')\n",
    "    names=random.choices(names,k=nums)\n",
    "    return names\n",
    "\n",
    "nums=int(input(\"students num(max=10)\"))\n",
    "students_names:list[str]=get_names(nums=nums)\n",
    "for name in students_names:\n",
    "    print(name)"
   ]
  },
  {
   "cell_type": "code",
   "execution_count": 12,
   "metadata": {},
   "outputs": [],
   "source": [
    "def generate_students(names:list[str])->list[dict]:\n",
    "    for name in names:\n",
    "        print(name)\n",
    "        chinese=random.randint(50,100)\n",
    "        English=random.randint(50,100)\n",
    "        Math=random.randint(50,100)\n",
    "        print(chinese)\n",
    "        print(English)\n",
    "        print(Math)\n",
    "        print(\"-----------\")"
   ]
  },
  {
   "cell_type": "code",
   "execution_count": 13,
   "metadata": {},
   "outputs": [
    {
     "name": "stdout",
     "output_type": "stream",
     "text": [
      "鄭琇亞\n",
      "87\n",
      "51\n",
      "71\n",
      "-----------\n",
      "林建宏\n",
      "87\n",
      "100\n",
      "66\n",
      "-----------\n",
      "馮淑芬\n",
      "52\n",
      "85\n",
      "67\n",
      "-----------\n",
      "戚亨\n",
      "82\n",
      "72\n",
      "72\n",
      "-----------\n",
      "朱士弘\n",
      "70\n",
      "95\n",
      "60\n",
      "-----------\n"
     ]
    }
   ],
   "source": [
    "generate_students(names=students_names)"
   ]
  }
 ],
 "metadata": {
  "kernelspec": {
   "display_name": "Python 3",
   "language": "python",
   "name": "python3"
  },
  "language_info": {
   "codemirror_mode": {
    "name": "ipython",
    "version": 3
   },
   "file_extension": ".py",
   "mimetype": "text/x-python",
   "name": "python",
   "nbconvert_exporter": "python",
   "pygments_lexer": "ipython3",
   "version": "3.10.16"
  }
 },
 "nbformat": 4,
 "nbformat_minor": 2
}
