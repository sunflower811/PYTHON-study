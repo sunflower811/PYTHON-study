{
 "cells": [
  {
   "cell_type": "code",
   "execution_count": 3,
   "metadata": {},
   "outputs": [
    {
     "name": "stdout",
     "output_type": "stream",
     "text": [
      "92\n",
      "-----A GUESSING NUM GAME------\n",
      "Bingo!!!, you try 1 times\n"
     ]
    }
   ],
   "source": [
    "import random\n",
    "def playgame():\n",
    "    min=1\n",
    "    max=100\n",
    "    a=random.randint(min,max)\n",
    "    c=0\n",
    "    print(a)\n",
    "    print(\"-----A GUESSING NUM GAME------\")\n",
    "    while True:\n",
    "        c+=1\n",
    "        try:b=int(input(f\"Guess the number's range: {min}~{max}\"))\n",
    "        except Exception:\n",
    "            print(\"try again\")\n",
    "            continue\n",
    "        if b>=min and b<=max:\n",
    "            if b==a:\n",
    "                print(f\"Bingo!!!, you try {c} times\")\n",
    "                break\n",
    "            elif b>a:\n",
    "                print(f'smaller, you try {c} times')\n",
    "                max=b-1\n",
    "            elif b>a:\n",
    "                print(f'bigger, you try {c} times')\n",
    "                min=b+1\n",
    "        else:print(\"out of range\")\n",
    "\n",
    "while True:\n",
    "    playgame()\n",
    "    answer=input(\"continue or stop??? c,s\")\n",
    "    if answer.upper()=='N':break"
   ]
  }
 ],
 "metadata": {
  "kernelspec": {
   "display_name": "Python 3",
   "language": "python",
   "name": "python3"
  },
  "language_info": {
   "codemirror_mode": {
    "name": "ipython",
    "version": 3
   },
   "file_extension": ".py",
   "mimetype": "text/x-python",
   "name": "python",
   "nbconvert_exporter": "python",
   "pygments_lexer": "ipython3",
   "version": "3.10.16"
  }
 },
 "nbformat": 4,
 "nbformat_minor": 2
}
