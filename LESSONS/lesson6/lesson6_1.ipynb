{
 "cells": [
  {
   "cell_type": "code",
   "execution_count": 2,
   "metadata": {},
   "outputs": [
    {
     "name": "stdout",
     "output_type": "stream",
     "text": [
      "12.5663704\n",
      "452.3893344\n"
     ]
    }
   ],
   "source": [
    "def c_area(r:int):\n",
    "    a=3.1415926*r**2\n",
    "    return a\n",
    "r=int(input(\"radius:\"))\n",
    "a=c_area(r)\n",
    "a1=c_area(r+10)\n",
    "print(a)\n",
    "print(a1)\n"
   ]
  }
 ],
 "metadata": {
  "kernelspec": {
   "display_name": "Python 3",
   "language": "python",
   "name": "python3"
  },
  "language_info": {
   "codemirror_mode": {
    "name": "ipython",
    "version": 3
   },
   "file_extension": ".py",
   "mimetype": "text/x-python",
   "name": "python",
   "nbconvert_exporter": "python",
   "pygments_lexer": "ipython3",
   "version": "3.10.16"
  }
 },
 "nbformat": 4,
 "nbformat_minor": 2
}
